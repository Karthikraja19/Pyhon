{
 "cells": [
  {
   "cell_type": "markdown",
   "metadata": {
    "id": "MzZ4dJQYF7sH"
   },
   "source": [
    "# Artificial and Computational Intelligence Assignment 1"
   ]
  },
  {
   "cell_type": "markdown",
   "metadata": {
    "id": "Fxb1aE9zF7sK"
   },
   "source": [
    "## Problem solving by Uninformed & Informed Search"
   ]
  },
  {
   "cell_type": "markdown",
   "metadata": {
    "id": "h35jIBbCF7sK"
   },
   "source": [
    "List only the BITS (Name) of active contributors in this assignment:\n",
    "1. ___________________\n",
    "2. __________________\n",
    "3. ____________________\n",
    "4. ___________________\n",
    "5. ___________________"
   ]
  },
  {
   "cell_type": "markdown",
   "metadata": {
    "id": "pt5ygv_zF7sL"
   },
   "source": [
    "Things to follow\n",
    "1.\tUse appropriate data structures to represent the graph and the path using python libraries\n",
    "2.\tProvide proper documentation\n",
    "3.\tFind the path and print it"
   ]
  },
  {
   "cell_type": "markdown",
   "metadata": {
    "id": "wZfop5ElF7sL"
   },
   "source": [
    "Coding begins here"
   ]
  },
  {
   "cell_type": "markdown",
   "metadata": {
    "id": "IL0QDMy3F7sL"
   },
   "source": [
    "### 1.\tDefine the environment in the following block"
   ]
  },
  {
   "cell_type": "markdown",
   "metadata": {
    "id": "RYwJPNLIF7sM"
   },
   "source": [
    "List the PEAS decription of the problem here in this markdown block"
   ]
  },
  {
   "cell_type": "markdown",
   "metadata": {
    "id": "XJ3cHp1IF7sM"
   },
   "source": [
    "Design the agent as PSA Agent(Problem Solving Agent)\n",
    "Clear Initial data structures to define the graph and variable declarations is expected\n",
    "IMPORTATANT: Write distinct code block as below"
   ]
  },
  {
   "cell_type": "code",
   "execution_count": 56,
   "metadata": {
    "id": "osp61RsLF7sN"
   },
   "outputs": [
    {
     "name": "stdin",
     "output_type": "stream",
     "text": [
      "Enter the Initial State (Starting City name):  Panaji\n"
     ]
    }
   ],
   "source": [
    "#Code Block : Set Initial State (Must handle dynamic inputs)\n",
    "\n",
    "start = input(\"Enter the Initial State (Starting City name): \")"
   ]
  },
  {
   "cell_type": "code",
   "execution_count": 57,
   "metadata": {
    "id": "XODwoWZ0F7sO"
   },
   "outputs": [
    {
     "name": "stdout",
     "output_type": "stream",
     "text": [
      "              Panaji   Raichur Mangalore   Bellari  Tirupati   Kurnool Kozhikode Bangalore   Nellore   Chennai\n",
      "    Panaji      0.00    384.70    307.21    334.07    636.35    452.25    515.80    493.23    671.74    744.04\n",
      "   Raichur    384.70      0.00    453.79    127.19    363.07     85.06    575.67    360.82    344.49    468.71\n",
      " Mangalore    307.21    453.79      0.00    332.97    500.20    471.58    209.71    296.85    579.75    586.95\n",
      "   Bellari    334.07    127.19    332.97      0.00    317.16    142.00    448.83    251.75    338.51    427.48\n",
      "  Tirupati    636.35    363.07    500.20    317.16      0.00    286.16    474.90    210.53    109.24    110.33\n",
      "   Kurnool    452.25     85.06    471.58    142.00    286.16      0.00    563.59    321.19    259.82    388.60\n",
      " Kozhikode    515.80    575.67    209.71    448.83    474.90    563.59      0.00    274.17    577.22    528.51\n",
      " Bangalore    493.23    360.82    296.85    251.75    210.53    321.19    274.17      0.00    305.80    290.17\n",
      "   Nellore    671.74    344.49    579.75    338.51    109.24    259.82    577.22    305.80      0.00    154.30\n",
      "   Chennai    744.04    468.71    586.95    427.48    110.33    388.60    528.51    290.17    154.30      0.00\n"
     ]
    }
   ],
   "source": [
    "#Code Block : Set the matrix for transition & cost (as relevant for the given problem)\n",
    "\n",
    "# Define the cities and their coordinates\n",
    "cities = {\n",
    "    'Panaji': (15.4909, 73.8278),\n",
    "    'Raichur': (16.2076, 77.3463),\n",
    "    'Mangalore': (12.9141, 74.8560),\n",
    "    'Bellari': (15.1394, 76.9214),\n",
    "    'Tirupati': (13.6288, 79.4192),\n",
    "    'Kurnool': (15.8281, 78.0373),\n",
    "    'Kozhikode': (11.2588, 75.7804),\n",
    "    'Bangalore': (12.9716, 77.5946),\n",
    "    'Nellore': (14.4426, 79.9865),\n",
    "    'Chennai': (13.0827, 80.2707)\n",
    "}\n",
    "\n",
    "# using haversine formula to calculate the heuristic function \n",
    "import math\n",
    "def haversine(coord1, coord2):\n",
    "    R = 6371  # Earth radius in kilometers\n",
    "\n",
    "    lat1, lon1 = coord1\n",
    "    lat2, lon2 = coord2\n",
    "\n",
    "    dlat = math.radians(lat2 - lat1)\n",
    "    dlon = math.radians(lon2 - lon1)\n",
    "\n",
    "    a = math.sin(dlat/2) * math.sin(dlat/2) + math.cos(math.radians(lat1)) \\\n",
    "        * math.cos(math.radians(lat2)) * math.sin(dlon/2) * math.sin(dlon/2)\n",
    "    c = 2 * math.atan2(math.sqrt(a), math.sqrt(1-a))\n",
    "    distance = R * c\n",
    "    return distance\n",
    "\n",
    "# Define heuristic function for Greedy First Search\n",
    "\n",
    "def heuristic(start, destination):\n",
    "    return haversine(cities[start], cities[destination])\n",
    "\n",
    "#***********************************************************************************************\n",
    "# Define the fitness function for Genetic Algorithm\n",
    "#def fitness(route):\n",
    "#    total_distance = 0\n",
    "#    for i in range(len(route) - 1):\n",
    "#        total_distance += haversine(cities[route[i]], cities[route[i+1]])\n",
    "#    return total_distance\n",
    "#***********************************************************************************************\n",
    "#*****************************matrix for Transistion********************************************\n",
    "\n",
    "city_names = list(cities.keys())\n",
    "n = len(city_names)\n",
    "distance_matrix = [[0] * n for _ in range(n)]\n",
    "\n",
    "# Populate the matrix with distances\n",
    "for i in range(n):\n",
    "    for j in range(n):\n",
    "        if i != j:  # No need to calculate distance to itself\n",
    "            distance_matrix[i][j] = haversine(cities[city_names[i]], cities[city_names[j]])\n",
    "\n",
    "# Print the matrix with city names\n",
    "# Print header row\n",
    "   \n",
    "print(f\"{'':>10}\", end='')  # Reduce space for header alignment\n",
    "for city in city_names:\n",
    "    print(f\"{city[:10]:>10}\", end='')  # Shorten city name if necessary, and reduce space\n",
    "print()\n",
    "\n",
    "# Print each row\n",
    "for i, row in enumerate(distance_matrix):\n",
    "    print(f\"{city_names[i][:10]:>10}\", end='')  # Print the shortened city name as row label\n",
    "    for dist in row:\n",
    "        print(f\"{dist:10.2f}\", end='')  # Reduce space for each distance\n",
    "    print()  # New line after each row"
   ]
  },
  {
   "cell_type": "code",
   "execution_count": 58,
   "metadata": {
    "id": "ro24Gaj7F7sO"
   },
   "outputs": [],
   "source": [
    "#Code Block : Write function to design the Transition Model/Successor function. Ideally this would be called while search algorithms are implemented\n",
    "def createGraphFromList(city_connections):\n",
    "    graph = {}\n",
    "    for item in city_connections:\n",
    "        node_val = item.split()\n",
    "\n",
    "        # Convert distance to integer\n",
    "        node_val[2] = int(node_val[2])\n",
    "\n",
    "        # Add connection from the first city to the second\n",
    "        if node_val[0] in graph:\n",
    "            graph[node_val[0]].append([node_val[1], node_val[2]])\n",
    "        else:\n",
    "            graph[node_val[0]] = [[node_val[1], node_val[2]]]\n",
    "\n",
    "        # Add connection from the second city to the first (for undirected graph)\n",
    "        if node_val[1] in graph:\n",
    "            graph[node_val[1]].append([node_val[0], node_val[2]])\n",
    "        else:\n",
    "            graph[node_val[1]] = [[node_val[0], node_val[2]]]\n",
    "\n",
    "    return graph\n",
    "\n",
    "# array of city connections\n",
    "city_connections = [\n",
    "    \"Bellari Bangalore 153\",\n",
    "    \"Bellari Tirupati 379\",\n",
    "    \"Bangalore Chennai 346\",\n",
    "    \"Bangalore Mangalore 352\",\n",
    "    \"Bangalore Kozhikode 356\",\n",
    "    \"Chennai Nellore 175\",\n",
    "    \"Chennai Tirupati 153\",\n",
    "    \"Kozhikode Mangalore 233\",\n",
    "    \"Kurnool Nellore 325\",\n",
    "    \"Kurnool Raichur 100\",\n",
    "    \"Mangalore Panaji 365\",\n",
    "    \"Panaji Raichur 457\",\n",
    "    \"Raichur Tirupati 453\"\n",
    "]"
   ]
  },
  {
   "cell_type": "code",
   "execution_count": 59,
   "metadata": {
    "id": "HIVPhrRWF7sO"
   },
   "outputs": [],
   "source": [
    "#Code block : Write fucntion to handle goal test (Must handle dynamic inputs). Ideally this would be called while search algorithms are implemented\n",
    "\n",
    "#Goal test\n",
    "\n",
    "def goal_test(current_node, goal):\n",
    "    return current_node == goal\n",
    "\n",
    "\n",
    "#Calculating Braching factor and depth \n",
    "\n",
    "def calculate_branching_factor(graph):\n",
    "    total_branches = 0\n",
    "    total_nodes = len(graph)\n",
    "\n",
    "    for node, neighbors in graph.items():\n",
    "        total_branches += len(neighbors)\n",
    "\n",
    "    if total_nodes == 0:\n",
    "        return 0  # Avoid division by zero error\n",
    "    else:\n",
    "        return total_branches / total_nodes\n",
    "\n",
    "def calculate_depth(graph, root):\n",
    "    if root not in graph:\n",
    "        return 0\n",
    "\n",
    "    visited = set()\n",
    "    stack = [(root, 0)]\n",
    "    max_depth = 0\n",
    "\n",
    "    while stack:\n",
    "        node, depth = stack.pop()\n",
    "        max_depth = max(max_depth, depth)\n",
    "        visited.add(node)\n",
    "\n",
    "        if isinstance(graph[node], list):  # Check if neighbors are provided as a list\n",
    "            neighbors = graph[node]\n",
    "        else:\n",
    "            neighbors = [graph[node]]\n",
    "\n",
    "        for neighbor in neighbors:\n",
    "            if neighbor[0] not in visited:\n",
    "                stack.append((neighbor[0], depth + 1))\n",
    "\n",
    "    return max_depth\n",
    "\n",
    "\n",
    "#Greedy Best-First Search, the time and space complexity formulas are indeed the same. Both are typically expressed as \"O(b^d)\"\n",
    "# Function to calculate time complexity\n",
    "def time_space_complexity_gbfs(b, d):\n",
    "    return b ** d\n",
    "\n",
    "def calculate_time_complexity_ga(population_size, num_generations, average_path_length, num_selected_parents, mutation_rate):\n",
    "    # Time complexity analysis\n",
    "    initialization_time = population_size * average_path_length\n",
    "    fitness_evaluation_time = population_size * average_path_length**2\n",
    "    selection_time = num_generations * population_size * num_selected_parents * average_path_length  # Assuming tournament selection\n",
    "    crossover_time = num_generations * population_size * num_selected_parents * average_path_length\n",
    "    mutation_time = num_generations * population_size * num_selected_parents * mutation_rate * average_path_length\n",
    "    total_time = initialization_time + fitness_evaluation_time + selection_time + crossover_time + mutation_time\n",
    "    return total_time\n",
    " \n",
    "def calculate_space_complexity_ga(population_size, average_path_length, num_selected_parents):\n",
    "    # Space complexity analysis\n",
    "    population_space = population_size * average_path_length\n",
    "    intermediate_space = population_size * num_selected_parents * average_path_length  # For intermediate data structures\n",
    "    total_space = population_space + intermediate_space\n",
    "    return total_space\n",
    " \n",
    "\n",
    "def calculate_path_cost(graph, path):\n",
    "    total_cost = 0\n",
    "    for i in range(len(path) - 1):\n",
    "        city1, city2 = path[i], path[i+1]\n",
    "        connections = graph[city1]\n",
    "        for neighbor, distance in connections:\n",
    "            if neighbor == city2:\n",
    "                total_cost += distance\n",
    "                break\n",
    "    return total_cost"
   ]
  },
  {
   "cell_type": "markdown",
   "metadata": {
    "id": "Z4QwDeX5F7sO"
   },
   "source": [
    "### 2.\tDefinition of Algorithm 1 (Greedy Best-First Search)"
   ]
  },
  {
   "cell_type": "code",
   "execution_count": 53,
   "metadata": {
    "id": "zD_EPCHWF7sO"
   },
   "outputs": [],
   "source": [
    "#Code Block : Function for algorithm 1 implementation\n",
    "import queue\n",
    "def greedy_best_first_search(graph, start, goal, heuristics):\n",
    "    # Open list as a priority queue: stores nodes to explore, prioritized by heuristic values\n",
    "    open_list = queue.PriorityQueue()\n",
    "    open_list.put((heuristics[start], start))\n",
    "    \n",
    "    # Path: to keep track of the path taken\n",
    "    path = []\n",
    "    \n",
    "    # Visited nodes\n",
    "    visited = set()\n",
    "\n",
    "    while not open_list.empty():\n",
    "        # Current node: node with the lowest heuristic value\n",
    "        _, current_node = open_list.get()\n",
    "\n",
    "        if current_node in visited:\n",
    "            continue\n",
    "\n",
    "        # Add current node to path and mark as visited\n",
    "        path.append(current_node)\n",
    "        visited.add(current_node)\n",
    "        \n",
    "       # Check if goal is reached\n",
    "        if goal_test(current_node, goal):\n",
    "            return path\n",
    "        \n",
    "        # Explore neighbors\n",
    "        for neighbor, _ in graph[current_node]:\n",
    "            if neighbor not in visited:\n",
    "                open_list.put((heuristics[neighbor], neighbor))\n",
    "\n",
    "    return path  # Return the path if goal is reached or an empty list if not"
   ]
  },
  {
   "cell_type": "markdown",
   "metadata": {
    "id": "KnbdDl6HF7sO"
   },
   "source": [
    "### 3.\tDefinition of Algorithm 2 (Genetic Algorithm)"
   ]
  },
  {
   "cell_type": "code",
   "execution_count": 63,
   "metadata": {
    "id": "3HYh7-eJF7sP"
   },
   "outputs": [],
   "source": [
    "import random\n",
    "import time\n",
    "# Define the cities and their connections\n",
    "cities = ['Panaji', 'Raichur', 'Mangalore', 'Bellari', 'Tirupati', 'Kurnool', 'Kozhikode', 'Bangalore', 'Nellore', 'Chennai']\n",
    "city_connections = [\n",
    "    (\"Bellari\", \"Bangalore\", 153),\n",
    "    (\"Bellari\", \"Tirupati\", 379),\n",
    "    (\"Bangalore\", \"Chennai\", 346),\n",
    "    (\"Bangalore\", \"Mangalore\", 352),\n",
    "    (\"Bangalore\", \"Kozhikode\", 356),\n",
    "    (\"Chennai\", \"Nellore\", 175),\n",
    "    (\"Chennai\", \"Tirupati\", 153),\n",
    "    (\"Kozhikode\", \"Mangalore\", 233),\n",
    "    (\"Kurnool\", \"Nellore\", 325),\n",
    "    (\"Kurnool\", \"Raichur\", 100),\n",
    "    (\"Mangalore\", \"Panaji\", 365),\n",
    "    (\"Panaji\", \"Raichur\", 457),\n",
    "    (\"Raichur\", \"Tirupati\", 453)\n",
    "]\n",
    "# Convert city connections to a graph\n",
    "graph_1 = {}\n",
    "for city1, city2, distance in city_connections:\n",
    "    if city1 not in graph_1:\n",
    "        graph_1[city1] = []\n",
    "    if city2 not in graph_1:\n",
    "        graph_1[city2] = []\n",
    "    graph_1[city1].append((city2, distance))\n",
    "    graph_1[city2].append((city1, distance))\n",
    "# Genetic Algorithm Functions\n",
    "def generate_path(start, end, graph_1):\n",
    "    # Generate a random path from start to end; not necessarily the shortest\n",
    "    path = [start]\n",
    "    while path[-1] != end:\n",
    "        next_steps = [city for city, _ in graph_1[path[-1]] if city not in path]\n",
    "        if not next_steps:\n",
    "            # If a dead end, restart\n",
    "            return generate_path(start, end, graph_1)\n",
    "        next_city = random.choice(next_steps)\n",
    "        path.append(next_city)\n",
    "    return path\n",
    "def initialize_population(size, start, end, graph_1):\n",
    "    return [generate_path(start, end, graph_1) for _ in range(size)]\n",
    "\n",
    "def calculate_total_distance(path, graph_1):\n",
    "    total_distance = 0\n",
    "    for i in range(len(path)-1):\n",
    "        found = False\n",
    "        for destination, distance in graph_1[path[i]]:\n",
    "            if destination == path[i+1]:\n",
    "                total_distance += distance\n",
    "                found = True\n",
    "                break\n",
    "        if not found:\n",
    "            return float('inf')  # Indicates an invalid path\n",
    "    return total_distance\n",
    " \n",
    "def fitness(path, graph_1):\n",
    "    total_distance = calculate_total_distance(path, graph_1)\n",
    "    if total_distance == float('inf'):\n",
    "        return 0  # Invalid path, fitness is zero\n",
    "    return 1 / (total_distance + 0.0001)\n",
    " \n",
    " \n",
    "def select(population, fitnesses, num_parents):\n",
    "    selected_indices = sorted(range(len(fitnesses)), key=lambda i: fitnesses[i], reverse=True)[:num_parents]\n",
    "    return [population[i] for i in selected_indices]\n",
    "def crossover(parent1, parent2):\n",
    "    # Single-point crossover\n",
    "    if len(parent1) > 1 and len(parent2) > 1:\n",
    "        crossover_point = random.randint(1, min(len(parent1), len(parent2)) - 1)\n",
    "        child1 = parent1[:crossover_point] + parent2[crossover_point:]\n",
    "        child2 = parent2[:crossover_point] + parent1[crossover_point:]\n",
    "        return child1, child2\n",
    "    else:\n",
    "        return parent1, parent2\n",
    "def mutate(path, graph_1, mutation_rate=0.1):\n",
    "    if random.random() < mutation_rate and len(path) > 2:\n",
    "        # Randomly selects a segment to mutate\n",
    "        index = random.randint(1, len(path) - 2)  # Avoid mutating the first and last city\n",
    "        possible_next_cities = [city for city, _ in graph_1[path[index-1]] if city not in path[:index]]\n",
    "        if possible_next_cities:\n",
    "            path[index] = random.choice(possible_next_cities)\n",
    "    return path\n",
    "\n",
    "def genetic_algorithm(graph_1, start, end, population_size, num_generations):\n",
    "    population = initialize_population(population_size, start, end, graph_1)\n",
    "    for generation in range(num_generations):\n",
    "        fitnesses = [fitness(path, graph_1) for path in population]\n",
    "        parents = select(population, fitnesses, num_parents=population_size//2)\n",
    "        next_generation = []\n",
    "        while len(next_generation) < population_size:\n",
    "            parent1, parent2 = random.sample(parents, 2)\n",
    "            child1, child2 = crossover(parent1, parent2)\n",
    "            child1 = mutate(child1, graph_1)\n",
    "            child2 = mutate(child2, graph_1)\n",
    "            next_generation.extend([child1, child2])\n",
    "        population = next_generation[:population_size]\n",
    "        # Optionally, print best path of each generation\n",
    "        best_index = fitnesses.index(max(fitnesses))\n",
    "        print(f\"Generation {generation + 1}: Best path is {population[best_index]} with distance {1/fitnesses[best_index]}\")\n",
    "    return max(population, key=lambda path: fitness(path, graph_1))"
   ]
  },
  {
   "cell_type": "markdown",
   "metadata": {
    "id": "LEV2XHccF7sP"
   },
   "source": [
    "### DYNAMIC INPUT"
   ]
  },
  {
   "cell_type": "markdown",
   "metadata": {
    "id": "CylYRo_DF7sP"
   },
   "source": [
    "IMPORTANT : Dynamic Input must be got in this section. Display the possible states to choose from:\n",
    "This is applicable for all the relevent problems as mentioned in the question."
   ]
  },
  {
   "cell_type": "code",
   "execution_count": 60,
   "metadata": {
    "id": "Q5t1Lc-wF7sP"
   },
   "outputs": [
    {
     "name": "stdin",
     "output_type": "stream",
     "text": [
      "Enter the Initial State (Starting City name):  Panaji\n",
      "Enter the Goal State (Destination) :  Chennai\n"
     ]
    },
    {
     "name": "stdout",
     "output_type": "stream",
     "text": [
      "\n",
      "Heuristic values with respect to Initial and Goal state\n",
      "\n",
      "Panaji 744.0351557019168\n",
      "Raichur 468.709078815222\n",
      "Mangalore 586.9476757845574\n",
      "Bellari 427.4793247479109\n",
      "Tirupati 110.33441493944753\n",
      "Kurnool 388.59982884786746\n",
      "Kozhikode 528.5085200528741\n",
      "Bangalore 290.1720249530612\n",
      "Nellore 154.29762113682816\n",
      "Chennai 0.0\n",
      "\n",
      "Details of Graph connects to each city : \n",
      "\n",
      "Bellari connects to:\n",
      "  - Bangalore with distance 153km\n",
      "  - Tirupati with distance 379km\n",
      "\n",
      "Bangalore connects to:\n",
      "  - Bellari with distance 153km\n",
      "  - Chennai with distance 346km\n",
      "  - Mangalore with distance 352km\n",
      "  - Kozhikode with distance 356km\n",
      "\n",
      "Tirupati connects to:\n",
      "  - Bellari with distance 379km\n",
      "  - Chennai with distance 153km\n",
      "  - Raichur with distance 453km\n",
      "\n",
      "Chennai connects to:\n",
      "  - Bangalore with distance 346km\n",
      "  - Nellore with distance 175km\n",
      "  - Tirupati with distance 153km\n",
      "\n",
      "Mangalore connects to:\n",
      "  - Bangalore with distance 352km\n",
      "  - Kozhikode with distance 233km\n",
      "  - Panaji with distance 365km\n",
      "\n",
      "Kozhikode connects to:\n",
      "  - Bangalore with distance 356km\n",
      "  - Mangalore with distance 233km\n",
      "\n",
      "Nellore connects to:\n",
      "  - Chennai with distance 175km\n",
      "  - Kurnool with distance 325km\n",
      "\n",
      "Kurnool connects to:\n",
      "  - Nellore with distance 325km\n",
      "  - Raichur with distance 100km\n",
      "\n",
      "Raichur connects to:\n",
      "  - Kurnool with distance 100km\n",
      "  - Panaji with distance 457km\n",
      "  - Tirupati with distance 453km\n",
      "\n",
      "Panaji connects to:\n",
      "  - Mangalore with distance 365km\n",
      "  - Raichur with distance 457km\n",
      "\n"
     ]
    }
   ],
   "source": [
    "#Code Block : Function & call to get inputs (start/end state)\n",
    "\n",
    "#Getting Start and Goal State as Dynamic Input \n",
    "startNode = str(input(\"Enter the Initial State (Starting City name): \"))\n",
    "goalNode = str(input(\"Enter the Goal State (Destination) : \"))\n",
    "print()\n",
    "# Calculate heuristic values for all cities based on the goal\n",
    "heuristics = {city: heuristic(city, goalNode) for city in cities}\n",
    "\n",
    "H_values = {}\n",
    "print(\"Heuristic values with respect to Initial and Goal state\")\n",
    "print()\n",
    "for city in cities:\n",
    "    H_values[city] = heuristic(city, goalNode)\n",
    "for city, value in H_values.items():\n",
    "    print(city, value)\n",
    "\n",
    "graph = createGraphFromList(city_connections)\n",
    "print()\n",
    "print(\"Details of Graph connects to each city : \")\n",
    "\n",
    "# Assuming the `graph` variable is already created using the `createGraphFromList` function\n",
    "def printGraph(graph):\n",
    "    for city, connections in graph.items():\n",
    "        print(f\"{city} connects to:\")\n",
    "        for connected_city, distance in connections:\n",
    "            print(f\"  - {connected_city} with distance {distance}km\")\n",
    "        print()  # Add an empty line for better separation\n",
    "print()\n",
    "printGraph(graph)"
   ]
  },
  {
   "cell_type": "markdown",
   "metadata": {
    "id": "xsfOP81lF7sP"
   },
   "source": [
    "### 4.\tCalling the search algorithms\n",
    "(For bidirectional search in below sections first part can be used as per Hint provided. Under second section other combinations as per Hint or your choice of 2 algorithms can be called .As an analyst suggest suitable approximation in the comparitive analysis section)"
   ]
  },
  {
   "cell_type": "code",
   "execution_count": 61,
   "metadata": {
    "id": "Og5zI9thF7sP"
   },
   "outputs": [
    {
     "name": "stdout",
     "output_type": "stream",
     "text": [
      "\n",
      "Path from Panaji to Chennai: ['Panaji', 'Raichur', 'Tirupati', 'Chennai']\n",
      "Path Cost :  1063\n"
     ]
    }
   ],
   "source": [
    "#Invoke algorithm 1 (Should Print the solution, path, cost etc., (As mentioned in the problem))\n",
    "\n",
    "\n",
    "#Calling Greedy Best First Search\n",
    "path = greedy_best_first_search(graph, startNode, goalNode, heuristics)\n",
    "print()\n",
    "# Print the path found\n",
    "print(f\"Path from {startNode} to {goalNode}: {path}\")\n",
    "\n",
    "print(\"Path Cost : \", calculate_path_cost(graph, path))"
   ]
  },
  {
   "cell_type": "code",
   "execution_count": 64,
   "metadata": {
    "id": "u3MJeA6eF7sP"
   },
   "outputs": [
    {
     "name": "stdout",
     "output_type": "stream",
     "text": [
      "Generation 1: Best path is ['Panaji', 'Raichur', 'Kurnool', 'Nellore', 'Chennai'] with distance 1057.0001\n",
      "Generation 2: Best path is ['Panaji', 'Raichur', 'Kurnool', 'Nellore', 'Chennai'] with distance 1057.0001\n",
      "Generation 3: Best path is ['Panaji', 'Raichur', 'Kurnool', 'Nellore', 'Chennai'] with distance 1057.0001\n",
      "Generation 4: Best path is ['Panaji', 'Raichur', 'Kurnool', 'Nellore', 'Chennai'] with distance 1057.0001\n",
      "Generation 5: Best path is ['Panaji', 'Mangalore', 'Kurnool', 'Nellore', 'Chennai'] with distance 1057.0001\n",
      "Generation 6: Best path is ['Panaji', 'Raichur', 'Kurnool', 'Nellore', 'Chennai'] with distance 1057.0001\n",
      "Generation 7: Best path is ['Panaji', 'Raichur', 'Kurnool', 'Nellore', 'Chennai'] with distance 1057.0001\n",
      "Generation 8: Best path is ['Panaji', 'Raichur', 'Kurnool', 'Nellore', 'Chennai'] with distance 1057.0001\n",
      "Generation 9: Best path is ['Panaji', 'Raichur', 'Kurnool', 'Nellore', 'Chennai'] with distance 1057.0001\n",
      "Generation 10: Best path is ['Panaji', 'Raichur', 'Kurnool', 'Nellore', 'Chennai'] with distance 1057.0001\n",
      "Best path found: ['Panaji', 'Raichur', 'Kurnool', 'Nellore', 'Chennai']\n"
     ]
    }
   ],
   "source": [
    "#Invoke algorithm 2 (Should Print the solution, path, cost etc., (As mentioned in the problem))\n",
    "# Define GA parameters\n",
    "import random\n",
    "start_city = 'Panaji'\n",
    "end_city = 'Chennai'\n",
    "population_size = 10\n",
    "num_generations = 10\n",
    "best_path = genetic_algorithm(graph, start_city, end_city, population_size, num_generations)\n",
    "print(\"Best path found:\", best_path)"
   ]
  },
  {
   "cell_type": "markdown",
   "metadata": {
    "id": "TOU3Rem6F7sQ"
   },
   "source": [
    "### 5.\tComparitive Analysis"
   ]
  },
  {
   "cell_type": "code",
   "execution_count": 65,
   "metadata": {
    "id": "HG6fWwiIF7sQ"
   },
   "outputs": [
    {
     "name": "stdout",
     "output_type": "stream",
     "text": [
      "Branching Factor: 2.6\n",
      "Depth: 6\n",
      "Time complexity for Greedy Best first Search :  308.91577600000005\n",
      "Space complexity for Greedy Best first Search :  308.91577600000005\n"
     ]
    }
   ],
   "source": [
    "#Code Block : Print the Time & Space complexity of algorithm 1\n",
    "\n",
    "b = calculate_branching_factor(graph)\n",
    "d = calculate_depth(graph, startNode)                          \n",
    "print(\"Branching Factor:\", b)\n",
    "print(\"Depth:\", d)\n",
    "\n",
    "#Time complexity \n",
    "\n",
    "print(\"Time complexity for Greedy Best first Search : \", time_space_complexity_gbfs(b, d))\n",
    "print(\"Space complexity for Greedy Best first Search : \", time_space_complexity_gbfs(b, d))"
   ]
  },
  {
   "cell_type": "code",
   "execution_count": 66,
   "metadata": {
    "id": "xMButLKCF7sQ"
   },
   "outputs": [
    {
     "name": "stdout",
     "output_type": "stream",
     "text": [
      "Time Complexity: 2400.0\n",
      "Space Complexity: 150\n"
     ]
    }
   ],
   "source": [
    "#Code Block : Print the Time & Space complexity of algorithm 2\n",
    "population_size = 10\n",
    "num_generations = 10\n",
    "average_path_length= len(best_path)\n",
    "num_selected_parents = 2  # Assuming 2 parents are selected for crossover\n",
    "mutation_rate = 0.1\n",
    " \n",
    "time_complexity = calculate_time_complexity_ga(population_size, num_generations, average_path_length, num_selected_parents, mutation_rate)\n",
    "space_complexity = calculate_space_complexity_ga(population_size, average_path_length, num_selected_parents)\n",
    " \n",
    "print(\"Time Complexity:\", time_complexity)\n",
    "print(\"Space Complexity:\", space_complexity)"
   ]
  },
  {
   "cell_type": "markdown",
   "metadata": {
    "id": "y2nXwAlsF7sQ"
   },
   "source": [
    "### 6.\tProvide your comparitive analysis or findings in no more than 3 lines in below section"
   ]
  },
  {
   "cell_type": "markdown",
   "metadata": {
    "id": "si483-zoF7sQ"
   },
   "source": [
    "Comparison: \n",
    "Genetic Algorithms:\n",
    "Genetic Algorithms are inspired by the process of natural selection and genetics. They work by creating a population of solutions, evolving the population over generations through selection, crossover, and mutation. The algorithm gradually evolves solutions toward higher fitness values.\n",
    "\n",
    "GA does not guarantee finding the optimal solution but is very good at finding very good solutions in complex or poorly understood search spaces. It is particularly effective in large, multimodal search spaces where local optima are a problem\n",
    "\n",
    "Greedy Best-First Search:\n",
    "Greedy Best-First Search is a pathfinding algorithm that expands the most promising node chosen according to a specific rule. It selects the path that appears to be the best at each step. GBFS uses a heuristic to prioritize paths closer to the goal, focusing on minimizing the cost to reach the goal from the current state \n",
    "\n",
    "GBFS uses a heuristic to prioritize paths closer to the goal, focusing on minimizing the cost to reach the goal from the current state "
   ]
  }
 ],
 "metadata": {
  "colab": {
   "provenance": []
  },
  "kernelspec": {
   "display_name": "Python 3 (ipykernel)",
   "language": "python",
   "name": "python3"
  },
  "language_info": {
   "codemirror_mode": {
    "name": "ipython",
    "version": 3
   },
   "file_extension": ".py",
   "mimetype": "text/x-python",
   "name": "python",
   "nbconvert_exporter": "python",
   "pygments_lexer": "ipython3",
   "version": "3.11.7"
  }
 },
 "nbformat": 4,
 "nbformat_minor": 4
}
